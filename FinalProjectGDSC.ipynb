{
  "nbformat": 4,
  "nbformat_minor": 0,
  "metadata": {
    "colab": {
      "provenance": []
    },
    "kernelspec": {
      "name": "python3",
      "display_name": "Python 3"
    },
    "language_info": {
      "name": "python"
    }
  },
  "cells": [
    {
      "cell_type": "code",
      "execution_count": null,
      "metadata": {
        "id": "d8B-SvcYcV1B"
      },
      "outputs": [],
      "source": [
        "# Alif Aqila Hakim / 220010086\n",
        "# Crops Analysis and Parameter Preparation for Predictive Model Project\n",
        "\n",
        "import numpy as np\n",
        "import pandas as pd\n",
        "import matplotlib.pyplot as plt\n",
        "import seaborn as sns\n",
        "from scipy.stats import pearsonr\n",
        "\n",
        "from sklearn.linear_model import LinearRegression\n",
        "from sklearn.metrics import r2_score\n",
        "from sklearn.model_selection import StratifiedShuffleSplit\n",
        "from sklearn.model_selection import train_test_split\n",
        "from sklearn.metrics import mean_squared_error, r2_score\n",
        "\n",
        "from sklearn.linear_model import LinearRegression\n",
        "from sklearn.ensemble import RandomForestRegressor\n",
        "from sklearn.model_selection import RandomizedSearchCV\n",
        "from sklearn.ensemble import GradientBoostingRegressor\n",
        "from sklearn import svm\n",
        "\n",
        "\n",
        "\n"
      ]
    },
    {
      "cell_type": "code",
      "source": [
        "df = pd.read_csv(\"crop_grains_data.csv\")\n",
        "print(df.head())\n",
        "print(df.info())\n",
        "print(df.describe())"
      ],
      "metadata": {
        "id": "v7k4W7ZJcfXN"
      },
      "execution_count": null,
      "outputs": []
    },
    {
      "cell_type": "code",
      "source": [
        "df.dtypes"
      ],
      "metadata": {
        "id": "6dWz6gJycijw"
      },
      "execution_count": null,
      "outputs": []
    },
    {
      "cell_type": "code",
      "source": [
        "# transform data\n",
        "df['date'] = pd.to_datetime(df['date'], format='%Y-%m-%d')\n",
        "\n",
        "print(df.info())\n",
        "print(df.head())\n",
        "\n",
        "#NULLvalues\n",
        "print(df.isnull().sum())\n",
        "\n",
        "#clean data\n",
        "uniqueVal=df['commodity'].unique()\n",
        "print(uniqueVal)\n",
        "uniqueVal=df['ticker'].unique()\n",
        "print(uniqueVal)\n"
      ],
      "metadata": {
        "id": "Sh3BsR2XcjH5"
      },
      "execution_count": null,
      "outputs": []
    },
    {
      "cell_type": "code",
      "source": [
        "# visualisasi data dasar untuk memeriksa semuanya sudah benar atau belum dan utk mendapatkan perspektif data yang luas\n",
        "\n",
        "#color palette\n",
        "uniqueVal=df['commodity'].unique()\n",
        "print(uniqueVal)\n",
        "\n",
        "uniqueVal=df['ticker'].unique()\n",
        "print(uniqueVal)\n",
        "\n",
        "palette={'Corn':'yellow','Oat':'orange','KC HRW Wheat':'cyan','Rough Rice':'grey','Soybean Oil':'blue','Soybean':'green'}\n",
        "\n",
        "plt.figure(1)\n",
        "f1=plt.scatter(df['date'],df['open'],alpha=0.5, c=df['commodity'].map(palette),s=1)"
      ],
      "metadata": {
        "id": "c81HI9PGckx7"
      },
      "execution_count": null,
      "outputs": []
    },
    {
      "cell_type": "markdown",
      "source": [
        "Kecendrungan masing-masing tanaman panen terkait dengan open price sangat mirip namun ada beberapa perbedaan kecil yang menarik untuk diperhatikan:\n",
        "\n",
        "1. Pada tahun 2020 beras mencapai puncaknya, tidak seperti tahun-tahun lainnya\n",
        "2. Pada tahun 2000 hingga tahun 2004, beras mengalami penurunan sedangkan beras lainnya stabil\n",
        "3. Oat mengalami penurunan pada tahun 2023 dibandingkan yang lainnya\n",
        "4. Minyak kedelai sangat stabil dalam rentang waktu tersebut\n",
        "5. Jagung dan gandum memiliki perilaku yang sangat mirip tetapi puncaknya lebih penting pada gandum\n",
        "6. Kedelai dengan perilaku yang sangat mirip dibandingkan dengan kedelai lainnya mengalami peningkatan seiring berjalannya waktu"
      ],
      "metadata": {
        "id": "AK-zy8G0cnre"
      }
    },
    {
      "cell_type": "code",
      "source": [
        "def graph(type):\n",
        "\tcorn=df[df['commodity']==type]\n",
        "\tplt.plot(corn['date'],corn['open'],c='b',lw=0.5)\n",
        "\tplt.plot(corn['date'],corn['high'],c='g',lw=0.5)\n",
        "\tplt.plot(corn['date'],corn['low'],c='g',lw=0.5)\n",
        "\tplt.plot(corn['date'],corn['close'],c='r',lw=0.5)\n",
        "\n",
        "plt.figure(5)\n",
        "\n",
        "graph('KC HRW Wheat')\n",
        "graph('Rough Rice')\n",
        "graph('Corn')\n",
        "graph('Oat')\n",
        "graph('Soybean Oil')\n",
        "graph('Soybean')"
      ],
      "metadata": {
        "id": "KNlND15WcuFf"
      },
      "execution_count": null,
      "outputs": []
    },
    {
      "cell_type": "markdown",
      "source": [
        "bukan perubahan penting antara open, close, low, dan high"
      ],
      "metadata": {
        "id": "l76usgrSc0XC"
      }
    },
    {
      "cell_type": "code",
      "source": [
        "#correlation matrix\n",
        "\n",
        "correlation_matrix = df[['open', 'high','low','close']].corr()\n",
        "sns.heatmap(correlation_matrix, annot=True, cmap='coolwarm')"
      ],
      "metadata": {
        "id": "f6m39abGc1hQ"
      },
      "execution_count": null,
      "outputs": []
    },
    {
      "cell_type": "markdown",
      "source": [
        "korelasi yang sangat tinggi, dilanjut dengan mengecek value"
      ],
      "metadata": {
        "id": "PQhoKB-Mc4_U"
      }
    },
    {
      "cell_type": "code",
      "source": [
        "correlations = []\n",
        "p_values = []\n",
        "correlation, p_value = pearsonr(df['open'], df['high'])\n",
        "correlations.append(correlation)\n",
        "p_values.append(p_value)\n",
        "correlation, p_value = pearsonr(df['open'], df['close'])\n",
        "correlations.append(correlation)\n",
        "p_values.append(p_value)\n",
        "correlation, p_value = pearsonr(df['open'], df['low'])\n",
        "correlations.append(correlation)\n",
        "p_values.append(p_value)\n",
        "correlation, p_value = pearsonr(df['high'],df['low'])\n",
        "correlations.append(correlation)\n",
        "p_values.append(p_value)\n",
        "correlation, p_value = pearsonr(df['high'],df['close'])\n",
        "correlations.append(correlation)\n",
        "p_values.append(p_value)\n",
        "correlation, p_value = pearsonr(df['low'], df['close'])\n",
        "correlations.append(correlation)\n",
        "p_values.append(p_value)\n",
        "\n",
        "for i in range(0,6):\n",
        "\tprint(f'{correlations[i]}')\n",
        "\tprint(f'{p_values[i]:.10f}')"
      ],
      "metadata": {
        "id": "fc5dE1uEc6MN"
      },
      "execution_count": null,
      "outputs": []
    },
    {
      "cell_type": "markdown",
      "source": [
        "R^2 yang sangat tinggi dan nilai p<0,05 parameter ini memberikan informasi yang sama, terkait multilinearitas, sehingga cukup buat prediction model hanya dengan salah satunya saja"
      ],
      "metadata": {
        "id": "08ZwsNtec9_r"
      }
    },
    {
      "cell_type": "code",
      "source": [
        "# untuk memeriksa regresi dua parameter ini\n",
        "plt.figure(33)\n",
        "plt.scatter(df['open'],df['close'],s=1)\n",
        "regression = LinearRegression()\n",
        "x=df['open']\n",
        "x=x.values.reshape(-1, 1)\n",
        "y=df['close']\n",
        "regression.fit(x,y)\n",
        "Y_pred = regression.predict(x)\n",
        "plt.plot(x, Y_pred, label='Regresi Linear', color='red')\n",
        "r2 = r2_score(y, Y_pred)\n",
        "m = regression.coef_[0]\n",
        "b = regression.intercept_\n",
        "equation_linear = f'linear: y = {m:.2f}x + {b:.2f}'\n",
        "r2_text = f'R^2 = {r2:.2f}'\n",
        "plt.text(0.2, 0.9, equation_linear, fontsize=12, transform=plt.gca().transAxes)\n",
        "plt.text(0.2, 0.85, r2_text, fontsize=12, transform=plt.gca().transAxes)"
      ],
      "metadata": {
        "id": "94vPyodMc_Sw"
      },
      "execution_count": null,
      "outputs": []
    },
    {
      "cell_type": "markdown",
      "source": [
        "dapat dicari parameter lain, variasi harga high dan low"
      ],
      "metadata": {
        "id": "JU_eu7z7dHgr"
      }
    },
    {
      "cell_type": "code",
      "source": [
        "variance= np.array(df['high']-df['low'])\n",
        "print(variance)\n",
        "df['variance']=variance\n",
        "\n",
        "def vargraph(type,fig):\n",
        "\tcorn=df[df['commodity']==type]\n",
        "\tplt.figure(fig)\n",
        "\tplt.plot(corn['date'],corn['variance']/max(corn['variance']),c='b',lw=0.5)\n",
        "\n",
        "vargraph('Corn',6)\n",
        "vargraph('Oat',7)\n",
        "vargraph('KC HRW Wheat',8)\n",
        "vargraph('Rough Rice',9)\n",
        "vargraph('Soybean Oil',10)\n",
        "vargraph('Soybean',11)"
      ],
      "metadata": {
        "id": "4thwle9udJYq"
      },
      "execution_count": null,
      "outputs": []
    },
    {
      "cell_type": "markdown",
      "source": [
        "Dimungkinkan untuk mengecek jika variasi berbeda untuk setiap jenis tanaman panen, parameter ini dapat berguna untuk ditambahkan ke dataframe"
      ],
      "metadata": {
        "id": "rDCyKxL0dKza"
      }
    },
    {
      "cell_type": "code",
      "source": [
        "plt.figure(34)\n",
        "plt.scatter(df['open'],df['variance'],s=1)\n",
        "regression = LinearRegression()\n",
        "x=df['open']\n",
        "x=x.values.reshape(-1, 1)\n",
        "y=df['variance']\n",
        "regression.fit(x,y)\n",
        "Y_pred = regression.predict(x)\n",
        "plt.plot(x, Y_pred, label='Regresi Linear', color='red')\n",
        "r2 = r2_score(y, Y_pred)\n",
        "m = regression.coef_[0]\n",
        "b = regression.intercept_\n",
        "equation_linear = f'linear: y = {m:.2f}x + {b:.2f}'\n",
        "r2_text = f'R^2 = {r2:.2f}'\n",
        "plt.text(0.2, 0.9, equation_linear, fontsize=12, transform=plt.gca().transAxes)\n",
        "plt.text(0.2, 0.85, r2_text, fontsize=12, transform=plt.gca().transAxes)"
      ],
      "metadata": {
        "id": "scJpIommdN4q"
      },
      "execution_count": null,
      "outputs": []
    },
    {
      "cell_type": "markdown",
      "source": [
        "Variance dan price tidak menunjukkan korelasi penting, cari kembali informasi yang berbeda"
      ],
      "metadata": {
        "id": "o-c4ShRfdQuA"
      }
    },
    {
      "cell_type": "code",
      "source": [
        "plt.figure(35)\n",
        "\n",
        "correlation_matrix = df[['open', 'high','low','close','variance']].corr()\n",
        "sns.heatmap(correlation_matrix, annot=True, cmap='coolwarm')\n",
        "\n",
        "\n",
        "corn=df[df['commodity']=='Corn']\n",
        "corn2=df[df['commodity']=='Oat']\n",
        "corn3=df[df['commodity']=='KC HRW Wheat']\n",
        "corn4=df[df['commodity']=='Rough Rice']\n",
        "corn5=df[df['commodity']=='Soybean Oil']\n",
        "corn6=df[df['commodity']=='Soybean']\n",
        "\n",
        "merged_df = pd.merge(corn,corn2, on='date', how='inner',suffixes=('_corn1', '_corn2'))\n",
        "merged_df = pd.merge(merged_df,corn3, on='date', how='inner',suffixes=('_merged', '_corn3'))\n",
        "merged_df = pd.merge(merged_df,corn4, on='date', how='inner',suffixes=('_merged2', '_corn4'))\n",
        "merged_df = pd.merge(merged_df,corn5, on='date', how='inner',suffixes=('_merged3', '_corn5'))\n",
        "merged_df = pd.merge(merged_df,corn6, on='date', how='inner',suffixes=('_merged4', '_corn6'))\n",
        "\n",
        "merged_df.columns=['ticker_corn','com_corn','date','op_corn','hi_corn','low_corn','clo_corn','vol_corn','var_corn',\n",
        "'ticker_Oat','com_Oat','op_Oat','hi_Oat','low_Oat','clo_Oat','vol_Oat','var_Oat',\n",
        "'ticker_KC HRW Wheat','com_KC HRW Wheat','op_KC HRW Wheat','hi_KC HRW Wheat','low_KC HRW Wheat','clo_KC HRW Wheat','vol_KC HRW Wheat','var_KC HRW Wheat',\n",
        "'ticker_Rough Rice','com_Rough Rice','op_Rough Rice','hi_Rough Rice','low_Rough Rice','clo_Rough Rice','vol_Rough Rice','var_Rough Rice',\n",
        "'ticker_Soybean Oil','com_Soybean Oil','op_Soybean Oil','hi_Soybean Oil','low_Soybean Oil','clo_Soybean Oil','vol_Soybean Oil','var_Soybean Oil',\n",
        "'ticker_Soybean','com_Soybean','op_Soybean','hi_Soybean','low_Soybean','clo_Soybean','vol_Soybean','var_Soybean']\n",
        "\n",
        "print(merged_df.info())"
      ],
      "metadata": {
        "id": "46dShVYxdUFM"
      },
      "execution_count": null,
      "outputs": []
    },
    {
      "cell_type": "markdown",
      "source": [
        "seperti yang sudah dicek sebelumnya, keempat parameter memberikan informasi yang sama selain variance nya"
      ],
      "metadata": {
        "id": "I-az9LSBdaSM"
      }
    },
    {
      "cell_type": "code",
      "source": [
        "plt.figure(36)\n",
        "\n",
        "correlation_matrix = merged_df[['op_corn','hi_corn','low_corn','clo_corn','vol_corn','var_corn',\n",
        "'op_Oat','hi_Oat','low_Oat','clo_Oat','vol_Oat','var_Oat',\n",
        "'op_KC HRW Wheat','hi_KC HRW Wheat','low_KC HRW Wheat','clo_KC HRW Wheat','vol_KC HRW Wheat','var_KC HRW Wheat',\n",
        "'op_Rough Rice','hi_Rough Rice','low_Rough Rice','clo_Rough Rice','vol_Rough Rice','var_Rough Rice',\n",
        "'op_Soybean Oil','hi_Soybean Oil','low_Soybean Oil','clo_Soybean Oil','vol_Soybean Oil','var_Soybean Oil',\n",
        "'op_Soybean','hi_Soybean','low_Soybean','clo_Soybean','vol_Soybean','var_Soybean']].corr()\n",
        "\n",
        "# op = open, clo = close, hi = high, lo = low\n",
        "\n",
        "sns.heatmap(correlation_matrix, annot=False, cmap='coolwarm')"
      ],
      "metadata": {
        "id": "w2EyKhymdbhy"
      },
      "execution_count": null,
      "outputs": []
    },
    {
      "cell_type": "code",
      "source": [
        "final_df = merged_df.drop(columns=['ticker_corn','hi_corn','low_corn','clo_corn',\n",
        "'ticker_Oat','hi_Oat','low_Oat','clo_Oat',\n",
        "'ticker_Rough Rice','hi_Rough Rice','low_Rough Rice','clo_Rough Rice',\n",
        "'ticker_KC HRW Wheat','hi_KC HRW Wheat','low_KC HRW Wheat','clo_KC HRW Wheat',\n",
        "'ticker_Soybean Oil','hi_Soybean Oil','low_Soybean Oil','clo_Soybean Oil',\n",
        "'ticker_Soybean','hi_Soybean','low_Soybean','clo_Soybean'])\n",
        "\n",
        "print(final_df.info())\n",
        "\n",
        "plt.figure(37)\n",
        "\n",
        "correlation_matrix = final_df[['op_corn','vol_corn','var_corn',\n",
        "'op_Oat','vol_Oat','var_Oat',\n",
        "'op_KC HRW Wheat','vol_KC HRW Wheat','var_KC HRW Wheat',\n",
        "'op_Rough Rice','vol_Rough Rice','var_Rough Rice',\n",
        "'op_Soybean Oil','vol_Soybean Oil','var_Soybean Oil',\n",
        "'op_Soybean','vol_Soybean','var_Soybean']].corr()\n",
        "print(correlation_matrix)\n",
        "\n",
        "sns.heatmap(correlation_matrix, annot=False, cmap='coolwarm')"
      ],
      "metadata": {
        "id": "lfQRTNw0ddZ_"
      },
      "execution_count": null,
      "outputs": []
    },
    {
      "cell_type": "markdown",
      "source": [
        "Parameter ini dapat menyediakan database yang baik untuk membuat model prediksi"
      ],
      "metadata": {
        "id": "VfUqXls4dgL7"
      }
    },
    {
      "cell_type": "code",
      "source": [
        "work_df=df.drop(columns=['ticker','high','low','close'])\n",
        "work_df['date'] = pd.to_datetime(df['date'], errors='coerce')\n",
        "work_df['month']= work_df['date'].dt.month\n",
        "work_df['year']= work_df['date'].dt.year\n",
        "work_df['day']= work_df['date'].dt.day\n",
        "print(work_df.info())\n",
        "\n",
        "plt.figure(38)\n",
        "correlation_matrix = work_df[['open','volume','variance','day','month','year']].corr()\n",
        "\n",
        "sns.heatmap(correlation_matrix, annot=False, cmap='coolwarm')"
      ],
      "metadata": {
        "id": "qH_OYdQJdgl0"
      },
      "execution_count": null,
      "outputs": []
    },
    {
      "cell_type": "code",
      "source": [
        "# stratified split\n",
        "\n",
        "stratified_splitter = StratifiedShuffleSplit(n_splits=1, test_size=0.2, random_state=42)\n",
        "X = work_df[['commodity', 'month', 'year','day', 'open', 'variance']]\n",
        "y = work_df['volume']\n",
        "\n",
        "X_train, X_test, y_train, y_test = train_test_split(X, y, test_size=0.2, random_state=42, stratify=pd.qcut(y, q=4))\n",
        "\n",
        "stats_train = y_train.describe()\n",
        "stats_test = y_test.describe()\n",
        "print(stats_train)\n",
        "print(stats_test)"
      ],
      "metadata": {
        "id": "nBE0WDUXdit5"
      },
      "execution_count": null,
      "outputs": []
    },
    {
      "cell_type": "code",
      "source": [
        "#linear model\n",
        "\n",
        "X = pd.get_dummies(X, columns=['commodity'], drop_first=True)\n",
        "X_train, X_test, y_train, y_test = train_test_split(X, y, test_size=0.2, random_state=42, stratify=pd.qcut(y, q=4))\n",
        "\n",
        "stats_train = y_train.describe()\n",
        "stats_test = y_test.describe()\n",
        "print(stats_train)\n",
        "print(stats_test)\n",
        "\n",
        "multi_modelRegression = LinearRegression()\n",
        "multi_modelRegression.fit(X_train, y_train)\n",
        "\n",
        "y_pred = multi_modelRegression.predict(X_test)\n",
        "\n",
        "mse = mean_squared_error(y_test, y_pred)\n",
        "r2 = r2_score(y_test, y_pred)\n",
        "\n",
        "print(f'Mean Squared Error (MSE): {mse}')\n",
        "print(f'Coeficiente de Determinación (R²): {r2}')\n",
        "\n",
        "coeficient = multi_modelRegression.coef_\n",
        "intercept = multi_modelRegression.intercept_\n",
        "\n",
        "print('Coeficient:', coeficient)\n",
        "print('Intercept:', intercept)"
      ],
      "metadata": {
        "id": "IEHZcrsudj-q"
      },
      "execution_count": null,
      "outputs": []
    },
    {
      "cell_type": "markdown",
      "source": [
        "nilai R^2= 0.434 MSE= 1.550.000.000 sehingga bukan model yang tepat"
      ],
      "metadata": {
        "id": "17h5_hZjdlDF"
      }
    },
    {
      "cell_type": "code",
      "source": [
        "#random forest\n",
        "\n",
        "param_grid = {\n",
        "    'n_estimators': [500],\n",
        "    'max_depth': [50],\n",
        "    'min_samples_split': [5],\n",
        "    'min_samples_leaf': [2],\n",
        "    'bootstrap': [True]\n",
        "}\n",
        "rf_model = RandomForestRegressor(random_state=42)\n",
        "\n",
        "random_search = RandomizedSearchCV(\n",
        "    estimator=rf_model,\n",
        "    param_distributions=param_grid,\n",
        "    n_iter=1, # Jumlah kombinasi acak untuk dicoba\n",
        "    cv=5,         # Jumlah pemisahan untuk validasi silang\n",
        "    random_state=42,\n",
        "    n_jobs=-1     # menggunakan semua CPU core untuk searching\n",
        ")\n",
        "\n",
        "\n",
        "random_search.fit(X_train, y_train)\n",
        "\n",
        "best_params = random_search.best_params_\n",
        "best_model = random_search.best_estimator_\n",
        "\n",
        "best_model.fit(X_train, y_train)\n",
        "\n",
        "y_pred = best_model.predict(X_test)\n",
        "\n",
        "mse = mean_squared_error(y_test, y_pred)\n",
        "print(f\"Mean Squared Error: {mse}\")\n",
        "\n",
        "r2 = r2_score(y_test, y_pred)\n",
        "print(f\"R-squared: {r2}\")"
      ],
      "metadata": {
        "id": "p88ix_evdm0-"
      },
      "execution_count": null,
      "outputs": []
    },
    {
      "cell_type": "markdown",
      "source": [
        "Dihasilkan R^2= 0,913 MSE= 2.401.106.675"
      ],
      "metadata": {
        "id": "zTswlQsadpRf"
      }
    },
    {
      "cell_type": "code",
      "source": [
        "# gradient boost\n",
        "\n",
        "gb_model = GradientBoostingRegressor(n_estimators=100, learning_rate=0.1, random_state=42)\n",
        "\n",
        "gb_model.fit(X_train, y_train)\n",
        "\n",
        "y_pred = gb_model.predict(X_test)\n",
        "\n",
        "mse = mean_squared_error(y_test, y_pred)\n",
        "r2 = r2_score(y_test, y_pred)\n",
        "\n",
        "print(f\"Mean Squared Error: {mse}\")\n",
        "print(f\"R-squared: {r2}\")"
      ],
      "metadata": {
        "id": "biNyTEQVd9dE"
      },
      "execution_count": null,
      "outputs": []
    },
    {
      "cell_type": "markdown",
      "source": [
        "model ini menghasilkan R^2= 0.640 and a MSE= 988.000.000 sehingga model terbaik dari uji model untuk prediksi hasil panen (crop) adalah Random Forest karena hasil R^2 paling tinggi dibandingkan model lainnya sehingga random forest merupakan model yang paling cocok"
      ],
      "metadata": {
        "id": "S5pOckTgd_Gi"
      }
    }
  ]
}